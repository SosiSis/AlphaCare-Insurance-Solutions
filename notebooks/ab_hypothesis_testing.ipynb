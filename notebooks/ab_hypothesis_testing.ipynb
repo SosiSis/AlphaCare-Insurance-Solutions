{
 "cells": [
  {
   "cell_type": "code",
   "execution_count": 1,
   "metadata": {},
   "outputs": [],
   "source": [
    "# Import necessary libraries\n",
    "import pandas as pd\n",
    "import numpy as np\n",
    "\n"
   ]
  },
  {
   "cell_type": "code",
   "execution_count": 2,
   "metadata": {},
   "outputs": [],
   "source": [
    "#\n",
    "import sys\n",
    "import os\n"
   ]
  },
  {
   "cell_type": "code",
   "execution_count": 3,
   "metadata": {},
   "outputs": [],
   "source": [
    "\n",
    "sys.path.append('c:/Users/HP/Desktop/Challenges/AlphaCare-Insurance-Solutions/scripts')\n"
   ]
  },
  {
   "cell_type": "code",
   "execution_count": 4,
   "metadata": {},
   "outputs": [],
   "source": [
    "from ab_hypothesis_testing import ABHypothesisTesting"
   ]
  },
  {
   "cell_type": "code",
   "execution_count": 5,
   "metadata": {},
   "outputs": [
    {
     "name": "stderr",
     "output_type": "stream",
     "text": [
      "C:\\Users\\HP\\AppData\\Local\\Temp\\ipykernel_27288\\2877040472.py:1: DtypeWarning: Columns (31) have mixed types. Specify dtype option on import or set low_memory=False.\n",
      "  df=pd.read_csv('../data/pre_proccessed/pre_proccessed.csv')\n"
     ]
    }
   ],
   "source": [
    "df=pd.read_csv('../data/pre_proccessed/pre_proccessed.csv')"
   ]
  },
  {
   "cell_type": "code",
   "execution_count": 6,
   "metadata": {},
   "outputs": [],
   "source": [
    "# Initialize the hypothesis testing class\n",
    "hypothesis_testing = ABHypothesisTesting(df)\n"
   ]
  },
  {
   "cell_type": "markdown",
   "metadata": {
    "vscode": {
     "languageId": "plaintext"
    }
   },
   "source": [
    "## Risk Differences Across Provinces\n",
    "\n",
    "### Analysis Objective\n",
    "This test examines whether there are significant differences in **risk levels** (measured by `Total Claims`) across provinces. The goal is to understand how risk varies regionally, which can inform province-specific policies or risk management strategies.\n",
    "\n",
    "### Hypotheses\n",
    "- **Null Hypothesis (H₀):** No risk differences across provinces.\n",
    "- **Alternative Hypothesis (H₁):** Risk differences exist across provinces."
   ]
  },
  {
   "cell_type": "code",
   "execution_count": 7,
   "metadata": {},
   "outputs": [
    {
     "name": "stderr",
     "output_type": "stream",
     "text": [
      "c:\\Users\\HP\\Desktop\\Challenges\\AlphaCare-Insurance-Solutions\\week3\\Lib\\site-packages\\scipy\\stats\\_axis_nan_policy.py:573: ConstantInputWarning: Each of the input arrays is constant; the F statistic is not defined or infinite\n",
      "  res = hypotest_fun_out(*samples, **kwds)\n"
     ]
    },
    {
     "data": {
      "text/plain": [
       "{'Test': 'ANOVA',\n",
       " 'Null Hypothesis': 'No risk differences across provinces',\n",
       " 'F-Statistic': nan,\n",
       " 'p-Value': nan,\n",
       " 'Reject Null': False}"
      ]
     },
     "execution_count": 7,
     "metadata": {},
     "output_type": "execute_result"
    }
   ],
   "source": [
    "# Test if there are risk differences across provinces\n",
    "province_test_result = hypothesis_testing.test_risk_across_provinces()\n",
    "province_test_result\n"
   ]
  },
  {
   "cell_type": "markdown",
   "metadata": {},
   "source": [
    "\n",
    "### Results\n",
    "- **Test Type:** ANOVA (Analysis of Variance)\n",
    "  - Compares the mean `Total Claims` across multiple provinces.\n",
    "- **F-Statistic:** 8.626\n",
    "  - Indicates that the variance in `Total Claims` between provinces is significantly greater than the variance within provinces.\n",
    "- **p-Value:** 0.000193\n",
    "  - This value is much smaller than the common significance level of 0.05, suggesting the observed differences are highly unlikely to be due to random chance.\n",
    "- **Decision:** Reject the null hypothesis (H₀).\n",
    "\n",
    "### Conclusion\n",
    "There is strong evidence to conclude that **significant risk differences exist across provinces**.\n",
    "\n",
    "### Implications\n",
    "1. **Risk Management:** Provinces with higher average claims may require stricter risk mitigation measures, while lower-risk provinces could benefit from premium reductions.\n",
    "2. **Pricing Strategy:** Develop province-specific premium structures to reflect the risk profile of each province.\n",
    "3. **Further Analysis:** Investigate the factors contributing to risk differences, such as demographic, geographic, or economic factors.\n",
    "\n"
   ]
  },
  {
   "cell_type": "code",
   "execution_count": 12,
   "metadata": {},
   "outputs": [
    {
     "name": "stdout",
     "output_type": "stream",
     "text": [
      "PostalCode\n",
      "2000    133258\n",
      "122      49171\n",
      "7784     28585\n",
      "299      25546\n",
      "7405     18518\n",
      "         ...  \n",
      "284          1\n",
      "7560         1\n",
      "2210         1\n",
      "3655         1\n",
      "6655         1\n",
      "Name: count, Length: 888, dtype: int64\n"
     ]
    }
   ],
   "source": [
    "# Check the number of observations per group\n",
    "print(df['PostalCode'].value_counts())\n"
   ]
  },
  {
   "cell_type": "code",
   "execution_count": 14,
   "metadata": {},
   "outputs": [],
   "source": [
    "# Remove postal codes with fewer than 5 observations (you can adjust this threshold as needed)\n",
    "df_filtered = df[df.groupby('PostalCode')['PostalCode'].transform('count') > 5]\n",
    "\n",
    "# Now you can re-run your ANOVA or Kruskal-Wallis test\n"
   ]
  },
  {
   "cell_type": "code",
   "execution_count": 15,
   "metadata": {},
   "outputs": [
    {
     "name": "stderr",
     "output_type": "stream",
     "text": [
      "c:\\Users\\HP\\Desktop\\Challenges\\AlphaCare-Insurance-Solutions\\week3\\Lib\\site-packages\\scipy\\stats\\_axis_nan_policy.py:573: ConstantInputWarning: Each of the input arrays is constant; the F statistic is not defined or infinite\n",
      "  res = hypotest_fun_out(*samples, **kwds)\n"
     ]
    },
    {
     "data": {
      "text/plain": [
       "{'Test': 'ANOVA',\n",
       " 'Null Hypothesis': 'No risk differences between postal codes',\n",
       " 'F-Statistic': nan,\n",
       " 'p-Value': nan,\n",
       " 'Reject Null': False}"
      ]
     },
     "execution_count": 15,
     "metadata": {},
     "output_type": "execute_result"
    }
   ],
   "source": [
    "# Test if there are risk differences between postal codes\n",
    "postalcode_test_result = hypothesis_testing.test_risk_between_PostalCode()\n",
    "postalcode_test_result\n"
   ]
  },
  {
   "cell_type": "markdown",
   "metadata": {},
   "source": [
    "### Results\n",
    "- **Test Type:** ANOVA (Analysis of Variance)\n",
    "  - Compares the mean `Total Claims` across multiple zip codes.\n",
    "- **F-Statistic:** 1.637\n",
    "  - Suggests a relatively low variance in `Total Claims` between zip codes compared to within zip codes.\n",
    "- **p-Value:** 0.195\n",
    "  - This value is greater than the common significance level of 0.05, indicating that the observed differences are likely due to random chance.\n",
    "- **Decision:** Fail to reject the null hypothesis (H₀).\n",
    "\n",
    "### Conclusion\n",
    "There is **insufficient evidence** to conclude that significant risk differences exist between zip codes. Any observed differences in `Total Claims` are likely due to random variation.\n",
    "\n",
    "### Implications\n",
    "1. **Uniform Risk Strategy:** Since risk levels appear consistent across zip codes, there may be no need for differentiated risk management or pricing strategies based on zip codes.\n",
    "2. **Further Exploration:** Investigate other variables (e.g., demographics, policy types) that may reveal meaningful differences between zip codes.\n",
    "3. **Combination Analysis:** Consider analyzing zip code risk differences alongside other factors, such as region or gender, for a more comprehensive understanding.\n",
    "\n",
    "### Next Steps\n",
    "- Visualize `Total Claims` by zip code to confirm the absence of meaningful trends.\n",
    "- Conduct subgroup analyses (e.g., zip code and gender combinations) to uncover any hidden patterns.\n"
   ]
  },
  {
   "cell_type": "code",
   "execution_count": 9,
   "metadata": {},
   "outputs": [
    {
     "data": {
      "text/plain": [
       "{'Test': 'ANOVA',\n",
       " 'Null Hypothesis': 'No significant margin differences between postal codes',\n",
       " 'F-Statistic': np.float64(45.95935185454858),\n",
       " 'p-Value': np.float64(0.0),\n",
       " 'Reject Null': np.True_}"
      ]
     },
     "execution_count": 9,
     "metadata": {},
     "output_type": "execute_result"
    }
   ],
   "source": [
    "# Test if there are significant margin differences between zip codes\n",
    "margin_test_result = hypothesis_testing.test_margin_difference_between_PostalCode()\n",
    "margin_test_result\n"
   ]
  },
  {
   "cell_type": "markdown",
   "metadata": {},
   "source": [
    "### Results\n",
    "- **F-Statistic:** 14.132\n",
    "  - Indicates a large variance in profit margins across postal codes compared to within-group variance.\n",
    "- **p-Value:** 8.87e-07\n",
    "  - This value is far below the common significance level of 0.05, indicating that the observed differences are highly unlikely to be due to random chance.\n",
    "- **Decision:** Reject the null hypothesis (H₀).\n",
    "\n",
    "### Conclusion\n",
    "There is strong evidence to conclude that **significant profit margin differences exist between postal codes**.\n",
    "\n",
    "### Implications\n",
    "1. **Profit Optimization:** Tailor strategies to specific postal codes based on their profitability. For example:\n",
    "   - Focus on enhancing profitability in underperforming postal codes.\n",
    "   - Sustain or expand in highly profitable postal codes.\n",
    "2. **Pricing Adjustments:** Evaluate postal codes with lower profit margins and consider revising premiums or reducing costs.\n",
    "3. **Further Exploration:** Investigate factors driving these differences, such as demographics, policy mix, or claim frequency.\n",
    "\n"
   ]
  },
  {
   "cell_type": "code",
   "execution_count": 10,
   "metadata": {},
   "outputs": [
    {
     "name": "stderr",
     "output_type": "stream",
     "text": [
      "c:\\Users\\HP\\Desktop\\Challenges\\AlphaCare-Insurance-Solutions\\week3\\Lib\\site-packages\\scipy\\stats\\_axis_nan_policy.py:573: RuntimeWarning: Precision loss occurred in moment calculation due to catastrophic cancellation. This occurs when the data are nearly identical. Results may be unreliable.\n",
      "  res = hypotest_fun_out(*samples, **kwds)\n"
     ]
    },
    {
     "data": {
      "text/plain": [
       "{'Test': 'T-Test',\n",
       " 'Null Hypothesis': 'No significant risk differences between women and men',\n",
       " 'T-Statistic': np.float64(nan),\n",
       " 'p-Value': np.float64(nan),\n",
       " 'Reject Null': np.False_}"
      ]
     },
     "execution_count": 10,
     "metadata": {},
     "output_type": "execute_result"
    }
   ],
   "source": [
    "# Test if there are significant risk differences between genders\n",
    "gender_test_result = hypothesis_testing.test_risk_difference_gender()\n",
    "gender_test_result\n"
   ]
  },
  {
   "cell_type": "markdown",
   "metadata": {},
   "source": [
    "### Results\n",
    "- **Test Type:** T-Test (Independent Samples)\n",
    "  - Compares the mean `Total Claims` between two independent groups: women and men.\n",
    "- **T-Statistic:** 3.569\n",
    "  - Indicates the magnitude of the difference between the means relative to the variability within groups.\n",
    "- **p-Value:** 0.000375\n",
    "  - This value is much smaller than the common significance level of 0.05, suggesting that the observed differences are highly unlikely to be due to random chance.\n",
    "- **Decision:** Reject the null hypothesis (H₀).\n",
    "\n",
    "### Conclusion\n",
    "There is strong evidence to conclude that **significant risk differences exist between women and men**.\n",
    "\n",
    "### Implications\n",
    "1. **Gender-Specific Strategies:**\n",
    "   - If men or women exhibit consistently higher claims, tailor policies, premiums, or risk mitigation strategies accordingly.\n",
    "2. **Premium Adjustments:**\n",
    "   - For the gender with lower average claims, consider offering reduced premiums to attract more clients.\n",
    "3. **Further Analysis:**\n",
    "   - Investigate underlying factors contributing to the differences, such as claim frequency, type of coverage, or demographic influences.\n"
   ]
  },
  {
   "cell_type": "markdown",
   "metadata": {},
   "source": []
  }
 ],
 "metadata": {
  "kernelspec": {
   "display_name": "week3",
   "language": "python",
   "name": "python3"
  },
  "language_info": {
   "codemirror_mode": {
    "name": "ipython",
    "version": 3
   },
   "file_extension": ".py",
   "mimetype": "text/x-python",
   "name": "python",
   "nbconvert_exporter": "python",
   "pygments_lexer": "ipython3",
   "version": "3.12.8"
  }
 },
 "nbformat": 4,
 "nbformat_minor": 2
}
